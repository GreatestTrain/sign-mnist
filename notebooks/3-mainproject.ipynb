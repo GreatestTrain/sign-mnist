{
 "cells": [
  {
   "cell_type": "code",
   "execution_count": 28,
   "metadata": {},
   "outputs": [
    {
     "name": "stdout",
     "output_type": "stream",
     "text": [
      "declared 4 variables\n"
     ]
    }
   ],
   "source": [
    "%run \"../config.py\""
   ]
  },
  {
   "cell_type": "code",
   "execution_count": 29,
   "metadata": {},
   "outputs": [],
   "source": [
    "import os\n",
    "import zipfile"
   ]
  },
  {
   "cell_type": "code",
   "execution_count": 30,
   "metadata": {},
   "outputs": [],
   "source": [
    "file_name = \"sign-language-img.zip\"\n",
    "zip_file = zipfile.ZipFile(os.path.join(DATA_DIR, file_name))\n",
    "zip_file.extractall(extracted := os.path.join(TMP_DIR, file_name))\n",
    "zip_file.close()"
   ]
  },
  {
   "cell_type": "code",
   "execution_count": 31,
   "metadata": {},
   "outputs": [],
   "source": [
    "import numpy as np\n",
    "import matplotlib.pyplot as plt \n",
    "import matplotlib.image as mpimg\n",
    "import string\n",
    "# import tensorflow as tf\n",
    "from keras_preprocessing.image import ImageDataGenerator"
   ]
  },
  {
   "cell_type": "code",
   "execution_count": 32,
   "metadata": {},
   "outputs": [],
   "source": [
    "train_dir = os.path.join(extracted, \"Train\")\n",
    "test_dir = os.path.join(extracted, \"Test\")"
   ]
  },
  {
   "cell_type": "code",
   "execution_count": 33,
   "metadata": {},
   "outputs": [],
   "source": [
    "train_datagen = ImageDataGenerator(\n",
    "    rescale = 1/255\n",
    ")\n",
    "test_datagen = ImageDataGenerator(\n",
    "    rescale = 1/255,\n",
    "    validation_split = 0.2\n",
    ")"
   ]
  },
  {
   "cell_type": "code",
   "execution_count": 34,
   "metadata": {},
   "outputs": [
    {
     "name": "stdout",
     "output_type": "stream",
     "text": [
      "Found 27455 images belonging to 24 classes.\n",
      "Found 1425 images belonging to 24 classes.\n",
      "Found 7172 images belonging to 24 classes.\n"
     ]
    }
   ],
   "source": [
    "train_generator = train_datagen.flow_from_directory(\n",
    "    train_dir,\n",
    "    target_size = (28,28),\n",
    "    batch_size = 128,\n",
    "    class_mode = \"categorical\",\n",
    "    color_mode = \"grayscale\",\n",
    "    subset = \"training\"\n",
    ")\n",
    "\n",
    "validation_generator = test_datagen.flow_from_directory(\n",
    "    test_dir,\n",
    "    target_size = (28,28),\n",
    "    batch_size = 128,\n",
    "    class_mode = \"categorical\",\n",
    "    color_mode = \"grayscale\",\n",
    "    subset = \"validation\"\n",
    ")\n",
    "\n",
    "test_generator = test_datagen.flow_from_directory(\n",
    "    test_dir,\n",
    "    target_size = (28,28),\n",
    "    batch_size = 128,\n",
    "    class_mode = \"categorical\",\n",
    "    color_mode = \"grayscale\",\n",
    ")"
   ]
  },
  {
   "cell_type": "code",
   "execution_count": 35,
   "metadata": {},
   "outputs": [
    {
     "data": {
      "text/plain": [
       "['A',\n",
       " 'B',\n",
       " 'C',\n",
       " 'D',\n",
       " 'E',\n",
       " 'F',\n",
       " 'G',\n",
       " 'H',\n",
       " 'I',\n",
       " 'K',\n",
       " 'L',\n",
       " 'M',\n",
       " 'N',\n",
       " 'O',\n",
       " 'P',\n",
       " 'Q',\n",
       " 'R',\n",
       " 'S',\n",
       " 'T',\n",
       " 'U',\n",
       " 'V',\n",
       " 'W',\n",
       " 'X',\n",
       " 'Y']"
      ]
     },
     "execution_count": 35,
     "metadata": {},
     "output_type": "execute_result"
    }
   ],
   "source": [
    "classes = [char for char in string.ascii_uppercase if char != \"J\" and char != \"Z\"]\n",
    "classes"
   ]
  },
  {
   "cell_type": "code",
   "execution_count": 36,
   "metadata": {},
   "outputs": [
    {
     "data": {
      "image/png": "[encoded data removed]",
      "text/plain": [
       "<Figure size 640x480 with 1 Axes>"
      ]
     },
     "metadata": {},
     "output_type": "display_data"
    }
   ],
   "source": [
    "plt.imshow((it := next(train_generator))[0][0])\n",
    "plt.title(classes[np.argmax(it[1][0])])\n",
    "plt.show()"
   ]
  },
  {
   "cell_type": "code",
   "execution_count": 37,
   "metadata": {},
   "outputs": [],
   "source": [
    "from keras import Sequential\n",
    "from keras.layers import Dense, Flatten, Conv2D, MaxPool2D, Dropout\n",
    "from keras.regularizers import l1_l2, l1, l2\n",
    "from keras.activations import relu, softmax, elu, selu\n",
    "from keras.optimizers import adam\n",
    "from keras.losses import categorical_crossentropy\n",
    "from keras.metrics import categorical_accuracy\n",
    "from keras.callbacks import CSVLogger, ModelCheckpoint, Callback, EarlyStopping"
   ]
  },
  {
   "cell_type": "code",
   "execution_count": 38,
   "metadata": {},
   "outputs": [],
   "source": [
    "model_base = Sequential()\n",
    "model_base.add( Conv2D(filters=3, activation=relu, kernel_size=(3,3), padding='same', input_shape=(28,28,1) ))\n",
    "model_base.add( Conv2D(filters=3, activation=relu, kernel_size=(4,4)) )\n",
    "model_base.add( MaxPool2D(pool_size=(2,2)) )\n",
    "model_base.add( Flatten() )\n",
    "model_base.add( Dense(256, activation=relu, kernel_regularizer=l1(1e-5)) )\n",
    "model_base.add( Dropout(0.2) )\n",
    "model_base.add( Dense(128, activation=relu, kernel_regularizer=l1(1e-5)) )\n",
    "model_base.add( Dropout(0.2) )\n",
    "model_base.add( Dense(len(classes), activation=softmax) )"
   ]
  },
  {
   "cell_type": "code",
   "execution_count": 39,
   "metadata": {},
   "outputs": [],
   "source": [
    "class TrainingCallback(Callback):\n",
    "    def on_epoch_end(self, epoch, logs={}):\n",
    "        if logs.get(\"categorical_accuracy\") > 0.95:\n",
    "            print(\"Reached 0.95 of accuracy\")\n",
    "            self.model.stop_training = True"
   ]
  },
  {
   "cell_type": "code",
   "execution_count": 40,
   "metadata": {},
   "outputs": [],
   "source": [
    "model_base.compile(\n",
    "    optimizer=adam(),\n",
    "    loss=categorical_crossentropy,\n",
    "    metrics=[categorical_accuracy],\n",
    ")"
   ]
  },
  {
   "cell_type": "code",
   "execution_count": 41,
   "metadata": {},
   "outputs": [
    {
     "name": "stdout",
     "output_type": "stream",
     "text": [
      "_________________________________________________________________\n",
      "Layer (type)                 Output Shape              Param #   \n",
      "=================================================================\n",
      "conv2d_3 (Conv2D)            (None, 28, 28, 3)         30        \n",
      "_________________________________________________________________\n",
      "conv2d_4 (Conv2D)            (None, 25, 25, 3)         147       \n",
      "_________________________________________________________________\n",
      "max_pooling2d_2 (MaxPooling2 (None, 12, 12, 3)         0         \n",
      "_________________________________________________________________\n",
      "flatten_2 (Flatten)          (None, 432)               0         \n",
      "_________________________________________________________________\n",
      "dense_4 (Dense)              (None, 256)               110848    \n",
      "_________________________________________________________________\n",
      "dropout_3 (Dropout)          (None, 256)               0         \n",
      "_________________________________________________________________\n",
      "dense_5 (Dense)              (None, 128)               32896     \n",
      "_________________________________________________________________\n",
      "dropout_4 (Dropout)          (None, 128)               0         \n",
      "_________________________________________________________________\n",
      "dense_6 (Dense)              (None, 24)                3096      \n",
      "=================================================================\n",
      "Total params: 147,017\n",
      "Trainable params: 147,017\n",
      "Non-trainable params: 0\n",
      "_________________________________________________________________\n"
     ]
    }
   ],
   "source": [
    "model_base.summary()"
   ]
  },
  {
   "cell_type": "code",
   "execution_count": 43,
   "metadata": {},
   "outputs": [
    {
     "name": "stdout",
     "output_type": "stream",
     "text": [
      "Epoch 1/20\n",
      "250/250 [==============================] - 22s 89ms/step - loss: 1.6104 - categorical_accuracy: 0.5316 - val_loss: 0.8450 - val_categorical_accuracy: 0.7680\n",
      "Epoch 2/20\n",
      "250/250 [==============================] - 10s 38ms/step - loss: 0.4097 - categorical_accuracy: 0.8947 - val_loss: 0.5997 - val_categorical_accuracy: 0.8392\n",
      "Epoch 3/20\n",
      "250/250 [==============================] - 5s 18ms/step - loss: 0.1980 - categorical_accuracy: 0.9667 - val_loss: 0.5344 - val_categorical_accuracy: 0.8683\n",
      "Epoch 4/20\n",
      "250/250 [==============================] - 5s 18ms/step - loss: 0.1387 - categorical_accuracy: 0.9858 - val_loss: 0.5830 - val_categorical_accuracy: 0.8666\n",
      "Epoch 5/20\n",
      "250/250 [==============================] - 5s 19ms/step - loss: 0.1184 - categorical_accuracy: 0.9920 - val_loss: 0.5769 - val_categorical_accuracy: 0.8640\n",
      "Epoch 6/20\n",
      "250/250 [==============================] - 5s 19ms/step - loss: 0.1053 - categorical_accuracy: 0.9947 - val_loss: 0.5450 - val_categorical_accuracy: 0.8820\n",
      "Epoch 7/20\n",
      "250/250 [==============================] - 5s 20ms/step - loss: 0.0999 - categorical_accuracy: 0.9959 - val_loss: 0.5575 - val_categorical_accuracy: 0.8828\n",
      "Epoch 8/20\n",
      "250/250 [==============================] - 5s 19ms/step - loss: 0.0986 - categorical_accuracy: 0.9956 - val_loss: 0.5907 - val_categorical_accuracy: 0.8802\n",
      "Epoch 9/20\n",
      "250/250 [==============================] - 5s 19ms/step - loss: 0.0926 - categorical_accuracy: 0.9971 - val_loss: 0.5806 - val_categorical_accuracy: 0.8785\n",
      "Epoch 10/20\n",
      "250/250 [==============================] - 5s 19ms/step - loss: 0.0881 - categorical_accuracy: 0.9974 - val_loss: 0.5970 - val_categorical_accuracy: 0.8777\n",
      "Epoch 11/20\n",
      "250/250 [==============================] - 5s 20ms/step - loss: 0.0856 - categorical_accuracy: 0.9979 - val_loss: 0.6691 - val_categorical_accuracy: 0.8674\n",
      "Epoch 12/20\n",
      "250/250 [==============================] - 5s 20ms/step - loss: 0.0837 - categorical_accuracy: 0.9984 - val_loss: 0.5327 - val_categorical_accuracy: 0.8820\n",
      "Epoch 13/20\n",
      "250/250 [==============================] - 5s 19ms/step - loss: 0.0834 - categorical_accuracy: 0.9974 - val_loss: 0.5630 - val_categorical_accuracy: 0.8883\n",
      "Epoch 14/20\n",
      "250/250 [==============================] - 5s 20ms/step - loss: 0.0819 - categorical_accuracy: 0.9979 - val_loss: 0.7117 - val_categorical_accuracy: 0.8683\n",
      "Epoch 15/20\n",
      "250/250 [==============================] - 5s 19ms/step - loss: 0.0847 - categorical_accuracy: 0.9962 - val_loss: 0.6465 - val_categorical_accuracy: 0.8606\n",
      "Epoch 16/20\n",
      "250/250 [==============================] - 5s 19ms/step - loss: 0.0774 - categorical_accuracy: 0.9981 - val_loss: 0.5454 - val_categorical_accuracy: 0.8854\n",
      "Epoch 17/20\n",
      "250/250 [==============================] - 5s 19ms/step - loss: 0.0777 - categorical_accuracy: 0.9978 - val_loss: 0.6916 - val_categorical_accuracy: 0.8614\n",
      "Epoch 18/20\n",
      "250/250 [==============================] - 5s 19ms/step - loss: 0.0779 - categorical_accuracy: 0.9969 - val_loss: 0.6010 - val_categorical_accuracy: 0.8683\n",
      "Epoch 19/20\n",
      "250/250 [==============================] - 5s 19ms/step - loss: 0.0722 - categorical_accuracy: 0.9989 - val_loss: 0.6021 - val_categorical_accuracy: 0.8859\n",
      "Epoch 20/20\n",
      "250/250 [==============================] - 5s 20ms/step - loss: 0.0707 - categorical_accuracy: 0.9985 - val_loss: 0.5964 - val_categorical_accuracy: 0.8828\n"
     ]
    }
   ],
   "source": [
    "logfile_name = \"D256-D128-classes.csv\"\n",
    "modelfile_name = \"model1.hdf5\"\n",
    "checkpoint_callback = ModelCheckpoint(\n",
    "    filepath=str(MODELS_DIR.joinpath(modelfile_name)),\n",
    "    save_best_only=True,\n",
    "    save_weights_only=False,\n",
    "    monitor=\"val_loss\",\n",
    ")\n",
    "\n",
    "early_callback = EarlyStopping(\n",
    "    monitor=\"val_loss\",\n",
    "    patience=3,\n",
    ")\n",
    "\n",
    "history = model_base.fit_generator(\n",
    "    train_generator,\n",
    "    # batch_size=128,\n",
    "    callbacks=[\n",
    "        CSVLogger(filename=str(LOGS_DIR.joinpath(logfile_name))),\n",
    "        checkpoint_callback,\n",
    "        early_callback,\n",
    "        # TrainingCallback()\n",
    "    ],\n",
    "    validation_data=validation_generator,\n",
    "    epochs=20,\n",
    "    steps_per_epoch=250,\n",
    "    validation_steps=10\n",
    ")"
   ]
  },
  {
   "cell_type": "code",
   "execution_count": 56,
   "metadata": {},
   "outputs": [],
   "source": [
    "import json"
   ]
  },
  {
   "cell_type": "code",
   "execution_count": 69,
   "metadata": {},
   "outputs": [],
   "source": [
    "with open(MODELS_DIR.joinpath(\"model1.json\"), \"w\") as f:\n",
    "    f.writelines(model_base.to_json())"
   ]
  },
  {
   "cell_type": "code",
   "execution_count": 45,
   "metadata": {},
   "outputs": [
    {
     "data": {
      "text/plain": [
       "[0.6011433743384781, 0.8771694540864626]"
      ]
     },
     "execution_count": 45,
     "metadata": {},
     "output_type": "execute_result"
    }
   ],
   "source": [
    "model_base.evaluate_generator(test_generator, steps=100)"
   ]
  },
  {
   "cell_type": "code",
   "execution_count": 46,
   "metadata": {},
   "outputs": [],
   "source": [
    "import pandas as pd"
   ]
  },
  {
   "cell_type": "code",
   "execution_count": 47,
   "metadata": {},
   "outputs": [],
   "source": [
    "history_df = pd.read_csv(LOGS_DIR.joinpath(logfile_name), index_col='epoch')"
   ]
  },
  {
   "cell_type": "code",
   "execution_count": 48,
   "metadata": {},
   "outputs": [
    {
     "data": {
      "image/png": "[encoded data removed]",
      "text/plain": [
       "<Figure size 1500x400 with 2 Axes>"
      ]
     },
     "metadata": {},
     "output_type": "display_data"
    }
   ],
   "source": [
    "fig, axes = plt.subplots(1,2, figsize=(15,4), sharex=True)\n",
    "history_df.loss.plot(ax=axes[0])\n",
    "history_df.val_loss.plot(ax=axes[0])\n",
    "history_df.categorical_accuracy.plot(ax=axes[1])\n",
    "history_df.val_categorical_accuracy.plot(ax=axes[1])\n",
    "axes[0].legend()\n",
    "axes[0].set_title(\"Loss\")\n",
    "axes[1].legend()\n",
    "axes[1].set_title(\"Accuracy\")\n",
    "axes[1].set_ylim(0,1.1)\n",
    "axes[1].set_xticks(history_df.index, rot=45)\n",
    "plt.show()"
   ]
  },
  {
   "cell_type": "code",
   "execution_count": 49,
   "metadata": {},
   "outputs": [],
   "source": [
    "from typing import Generator\n",
    "\n",
    "early_callback = EarlyStopping(\n",
    "    monitor = \"val_loss\",\n",
    "    patience=5,\n",
    "    restore_best_weights=True\n",
    ")\n",
    "\n",
    "def generate_model(train, validation, params):\n",
    "    \n",
    "    if not params.__getattribute__:\n",
    "        raise Exception(\"params doesnt seem to be a dict datatype\")\n",
    "\n",
    "    model = Sequential()\n",
    "    model.add( Conv2D(filters=params[\"filters\"], activation=params[\"activation\"], kernel_size=(3,3), padding='same', input_shape=(28,28,1) ))\n",
    "    model.add( MaxPool2D(pool_size=(2,2)) )\n",
    "    model.add( Flatten() )\n",
    "    model.add( Dense(params[\"dense1\"], activation=params[\"activation\"], kernel_regularizer=l1(1e-5)) )\n",
    "    model.add( Dropout(params[\"dropout1\"]) )\n",
    "    model.add( Dense(params[\"dense2\"], activation=params[\"activation\"], kernel_regularizer=l1(1e-5)) )\n",
    "    model.add( Dropout(params[\"dropout2\"]) )\n",
    "    model.add( Dense(len(classes), activation=softmax) )\n",
    "\n",
    "    model.compile(\n",
    "        optimizer=adam(params[\"lr\"]),\n",
    "        loss=categorical_crossentropy,\n",
    "        metrics=categorical_accuracy\n",
    "    )\n",
    "\n",
    "    if isinstance(train, Generator) and isinstance(validation, Generator):\n",
    "        fit_method = model.fit_generator\n",
    "        out = fit_method(\n",
    "            train,\n",
    "            # batch_size=128,\n",
    "            callbacks=[ early_callback ],\n",
    "            validation_data=validation,\n",
    "            epochs=20,\n",
    "            steps_per_epoch=250,\n",
    "            validation_steps=10\n",
    "        )\n",
    "    elif isinstance(train, tuple) and isinstance(validation, tuple):\n",
    "        fit_method = model.fit\n",
    "        out = fit_method(\n",
    "            x = train[0],\n",
    "            y = train[1],\n",
    "            batch_size=128,\n",
    "            callbacks=[ early_callback ],\n",
    "            validation_data=validation,\n",
    "            epochs=20,\n",
    "            # steps_per_epoch=250,\n",
    "            # validation_steps=10\n",
    "        )\n",
    "\n",
    "    return out, model"
   ]
  },
  {
   "cell_type": "code",
   "execution_count": 50,
   "metadata": {},
   "outputs": [],
   "source": [
    "hp = {\n",
    "    \"filters\": np.arange(2,64,8, dtype=np.int_),\n",
    "    \"activation\": [relu, elu, selu],\n",
    "    \"desnse1\": np.arange(16,76,5, dtype=np.int_),\n",
    "    \"dense2\": np.arange(16,32,5, dtype=np.int_),\n",
    "    \"dropout1\": np.arange(0.1,0.3, 0.5),\n",
    "    \"dropout2\": np.arange(0.1,0.3, 0.5),\n",
    "    \"lr\": np.arange(0.0001,0.01, 0.001)\n",
    "}"
   ]
  },
  {
   "cell_type": "code",
   "execution_count": 51,
   "metadata": {},
   "outputs": [
    {
     "data": {
      "text/plain": [
       "array([20,  9, 23, ..., 23,  4,  6])"
      ]
     },
     "execution_count": 51,
     "metadata": {},
     "output_type": "execute_result"
    }
   ],
   "source": [
    "pred_.argmax(axis=1)"
   ]
  },
  {
   "cell_type": "code",
   "execution_count": 52,
   "metadata": {},
   "outputs": [],
   "source": [
    "import cv2"
   ]
  },
  {
   "cell_type": "code",
   "execution_count": 53,
   "metadata": {},
   "outputs": [],
   "source": [
    "def decode(img):\n",
    "    img = np.expand_dims(img, axis=2)\n",
    "    idx = model_base.predict(np.array([img])).argmax()\n",
    "    pred = list(train_generator.class_indices.keys())[idx]\n",
    "    return pred"
   ]
  },
  {
   "cell_type": "code",
   "execution_count": 70,
   "metadata": {},
   "outputs": [],
   "source": [
    "import pickle"
   ]
  },
  {
   "cell_type": "code",
   "execution_count": 72,
   "metadata": {},
   "outputs": [],
   "source": [
    "with open(DATA_DIR.joinpath(\"decoder.pickle\"), \"wb\") as f:\n",
    "    pickle.dump(train_generator.class_indices, f)"
   ]
  },
  {
   "cell_type": "code",
   "execution_count": 54,
   "metadata": {},
   "outputs": [
    {
     "data": {
      "image/png": "[encoded data removed]",
      "text/plain": [
       "<Figure size 640x480 with 1 Axes>"
      ]
     },
     "metadata": {},
     "output_type": "display_data"
    }
   ],
   "source": [
    "img = cv2.imread(\"/tmp/sign-language-img.zip/Test/S/287_S.jpg\")\n",
    "img = cv2.cvtColor(img, cv2.COLOR_BGR2GRAY)\n",
    "plt.imshow(img)\n",
    "plt.title(decode(img), size=50)\n",
    "plt.show()"
   ]
  }
 ],
 "metadata": {
  "kernelspec": {
   "display_name": "Python 3",
   "language": "python",
   "name": "python3"
  },
  "language_info": {
   "codemirror_mode": {
    "name": "ipython",
    "version": 3
   },
   "file_extension": ".py",
   "mimetype": "text/x-python",
   "name": "python",
   "nbconvert_exporter": "python",
   "pygments_lexer": "ipython3",
   "version": "3.10.9"
  },
  "orig_nbformat": 4,
  "vscode": {
   "interpreter": {
    "hash": "767d51c1340bd893661ea55ea3124f6de3c7a262a8b4abca0554b478b1e2ff90"
   }
  }
 },
 "nbformat": 4,
 "nbformat_minor": 2
}
