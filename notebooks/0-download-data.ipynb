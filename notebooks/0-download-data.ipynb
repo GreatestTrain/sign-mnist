{
 "cells": [
  {
   "cell_type": "code",
   "execution_count": 2,
   "metadata": {},
   "outputs": [],
   "source": [
    "DATA_DIR = \"../data\""
   ]
  },
  {
   "cell_type": "code",
   "execution_count": 3,
   "metadata": {},
   "outputs": [],
   "source": [
    "import subprocess\n",
    "import os"
   ]
  },
  {
   "cell_type": "code",
   "execution_count": 4,
   "metadata": {},
   "outputs": [],
   "source": [
    "commands = [\n",
    "    f\"wget --no-check-certificate https://storage.googleapis.com/platzi-tf2/databasesLoadData.zip -O databasesLoadData.zip\",\n",
    "    f\"wget --no-check-certificate https://storage.googleapis.com/platzi-tf2/sign-language-img.zip -O sign-language-img.zip\",\n",
    "    f\"wget --no-check-certificate https://storage.googleapis.com/platzi-tf2/TomAndJerry.zip -O TomAndJerry.zip\",\n",
    "    f\"wget --no-check-certificate https://storage.googleapis.com/platzi-tf2/TumorClassification.zip -O TumorClassification.zip\",\n",
    "    f\"wget --no-check-certificate https://storage.googleapis.com/platzi-tf2/MalariaCells.zip -O MalariaCells.zip\",\n",
    "    f\"wget --no-check-certificate https://storage.googleapis.com/platzi-tf2/sign-language-img.zip -O sign-language-img.zip\",\n",
    "]"
   ]
  },
  {
   "cell_type": "code",
   "execution_count": 6,
   "metadata": {},
   "outputs": [],
   "source": [
    "for cmd in commands:\n",
    "    if os.path.isfile(os.path.join(DATA_DIR ,cmd.split(\" \")[-1])):\n",
    "        continue\n",
    "    executed = subprocess.Popen(cmd, shell=True, cwd=DATA_DIR, stdout=subprocess.DEVNULL)\n",
    "    executed.wait()\n",
    "    if (rc := executed.returncode) != 0:\n",
    "        raise subprocess.CalledProcessError(f\"{rc}: {str(executed.stderr.read())}\")"
   ]
  }
 ],
 "metadata": {
  "kernelspec": {
   "display_name": "Python 3",
   "language": "python",
   "name": "python3"
  },
  "language_info": {
   "codemirror_mode": {
    "name": "ipython",
    "version": 3
   },
   "file_extension": ".py",
   "mimetype": "text/x-python",
   "name": "python",
   "nbconvert_exporter": "python",
   "pygments_lexer": "ipython3",
   "version": "3.10.9 (main, Dec 19 2022, 17:35:49) [GCC 12.2.0]"
  },
  "orig_nbformat": 4,
  "vscode": {
   "interpreter": {
    "hash": "767d51c1340bd893661ea55ea3124f6de3c7a262a8b4abca0554b478b1e2ff90"
   }
  }
 },
 "nbformat": 4,
 "nbformat_minor": 2
}
